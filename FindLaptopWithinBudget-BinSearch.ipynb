{
 "cells": [
  {
   "cell_type": "markdown",
   "metadata": {},
   "source": [
    "# Laptop Peices\n",
    "\n",
    "We will use the laptops.csv file as our inventory. This CSV file was adapted from the Laptop Prices dataset on Kaggle - https://www.kaggle.com/ionaskel/laptop-prices\n",
    "\n",
    "The rows include\n",
    "\n",
    "ID: A unique identifier for the laptop.\n",
    "\n",
    "Company: The name of the company that produces the laptop.\n",
    "\n",
    "Product: The name of the laptop.\n",
    "\n",
    "TypeName: The type of laptop.\n",
    "\n",
    "Inches: The size of the screen in inches.\n",
    "\n",
    "ScreenResolution: The resolution of the screen.\n",
    "\n",
    "CPU: The laptop CPU.\n",
    "\n",
    "RAM: The amount of RAM in the laptop.\n",
    "\n",
    "Memory: The size of the hard drive.\n",
    "\n",
    "GPU: The graphics card name.\n",
    "\n",
    "OpSys: The name of the operating system.\n",
    "\n",
    "Weight: The laptop weight.\n",
    "\n",
    "Price: The price of the laptop.\n",
    "\n",
    "_Some of the questions we want to answer are:_\n",
    "\n",
    "Given a laptop id, find the corresponding data.\n",
    "Given an amount of money, find whether there are two laptops whose total price is that given amount.\n",
    "Identify all laptops whose price falls within a given budget."
   ]
  },
  {
   "cell_type": "code",
   "execution_count": 47,
   "metadata": {
    "collapsed": true
   },
   "outputs": [],
   "source": [
    "import csv"
   ]
  },
  {
   "cell_type": "code",
   "execution_count": 3,
   "metadata": {
    "collapsed": false
   },
   "outputs": [],
   "source": [
    "with open('laptops.csv') as file:\n",
    "    reader = csv.reader(file)\n",
    "    laptop = list(reader)\n",
    "    header = laptop[0]\n",
    "    rows = laptop[1:]\n",
    "    "
   ]
  },
  {
   "cell_type": "code",
   "execution_count": 4,
   "metadata": {
    "collapsed": false
   },
   "outputs": [
    {
     "name": "stdout",
     "output_type": "stream",
     "text": [
      "['Id', 'Company', 'Product', 'TypeName', 'Inches', 'ScreenResolution', 'Cpu', 'Ram', 'Memory', 'Gpu', 'OpSys', 'Weight', 'Price']\n"
     ]
    }
   ],
   "source": [
    "print(header)\n"
   ]
  },
  {
   "cell_type": "code",
   "execution_count": 5,
   "metadata": {
    "collapsed": false
   },
   "outputs": [
    {
     "name": "stdout",
     "output_type": "stream",
     "text": [
      "['6571244', 'Apple', 'MacBook Pro', 'Ultrabook', '13.3', 'IPS Panel Retina Display 2560x1600', 'Intel Core i5 2.3GHz', '8GB', '128GB SSD', 'Intel Iris Plus Graphics 640', 'macOS', '1.37kg', '1339']\n",
      "['7287764', 'Apple', 'Macbook Air', 'Ultrabook', '13.3', '1440x900', 'Intel Core i5 1.8GHz', '8GB', '128GB Flash Storage', 'Intel HD Graphics 6000', 'macOS', '1.34kg', '898']\n",
      "['3362737', 'HP', '250 G6', 'Notebook', '15.6', 'Full HD 1920x1080', 'Intel Core i5 7200U 2.5GHz', '8GB', '256GB SSD', 'Intel HD Graphics 620', 'No OS', '1.86kg', '575']\n",
      "['9722156', 'Apple', 'MacBook Pro', 'Ultrabook', '15.4', 'IPS Panel Retina Display 2880x1800', 'Intel Core i7 2.7GHz', '16GB', '512GB SSD', 'AMD Radeon Pro 455', 'macOS', '1.83kg', '2537']\n",
      "['8550527', 'Apple', 'MacBook Pro', 'Ultrabook', '13.3', 'IPS Panel Retina Display 2560x1600', 'Intel Core i5 3.1GHz', '8GB', '256GB SSD', 'Intel Iris Plus Graphics 650', 'macOS', '1.37kg', '1803']\n"
     ]
    }
   ],
   "source": [
    "for i in range(5):\n",
    "    print(rows[i])"
   ]
  },
  {
   "cell_type": "code",
   "execution_count": 6,
   "metadata": {
    "collapsed": false
   },
   "outputs": [],
   "source": [
    "class Inventory():\n",
    "    def __init__(self, csv_filename):\n",
    "        with open(csv_filename) as file:\n",
    "            reader=csv.reader(file)\n",
    "            rows=list(reader)\n",
    "        self.header=rows[0]\n",
    "        self.rows=rows[1:]\n",
    "        for row in self.rows:\n",
    "            row[-1] = int(row[-1])\n",
    "            "
   ]
  },
  {
   "cell_type": "code",
   "execution_count": 7,
   "metadata": {
    "collapsed": false
   },
   "outputs": [
    {
     "name": "stdout",
     "output_type": "stream",
     "text": [
      "['Id', 'Company', 'Product', 'TypeName', 'Inches', 'ScreenResolution', 'Cpu', 'Ram', 'Memory', 'Gpu', 'OpSys', 'Weight', 'Price']\n",
      "1303\n"
     ]
    }
   ],
   "source": [
    "inventory = Inventory('laptops.csv')\n",
    "print(inventory.header)\n",
    "print(len(inventory.rows))"
   ]
  },
  {
   "cell_type": "code",
   "execution_count": 8,
   "metadata": {
    "collapsed": true
   },
   "outputs": [],
   "source": [
    "class Inventory():\n",
    "    def __init__(self, csv_filename):\n",
    "        with open(csv_filename) as file:\n",
    "            reader=csv.reader(file)\n",
    "            rows=list(reader)\n",
    "        self.header=rows[0]\n",
    "        self.rows=rows[1:]\n",
    "        for row in self.rows:\n",
    "            row[-1] = int(row[-1])\n",
    "            \n",
    "    def get_laptop_from_id(self, laptop_id):\n",
    "        for row in self.rows:\n",
    "            if laptop_id in row: \n",
    "                return row \n",
    "        return None"
   ]
  },
  {
   "cell_type": "code",
   "execution_count": 9,
   "metadata": {
    "collapsed": false
   },
   "outputs": [
    {
     "name": "stdout",
     "output_type": "stream",
     "text": [
      "['3362737', 'HP', '250 G6', 'Notebook', '15.6', 'Full HD 1920x1080', 'Intel Core i5 7200U 2.5GHz', '8GB', '256GB SSD', 'Intel HD Graphics 620', 'No OS', '1.86kg', 575]\n"
     ]
    }
   ],
   "source": [
    "inventory = Inventory('laptops.csv')\n",
    "print(inventory.get_laptop_from_id('3362737'))"
   ]
  },
  {
   "cell_type": "code",
   "execution_count": 10,
   "metadata": {
    "collapsed": false
   },
   "outputs": [
    {
     "name": "stdout",
     "output_type": "stream",
     "text": [
      "None\n"
     ]
    }
   ],
   "source": [
    "print(inventory.get_laptop_from_id('3362736'))"
   ]
  },
  {
   "cell_type": "code",
   "execution_count": 11,
   "metadata": {
    "collapsed": true
   },
   "outputs": [],
   "source": [
    "class Inventory():\n",
    "    def __init__(self, csv_filename):\n",
    "        with open(csv_filename) as file:\n",
    "            reader=csv.reader(file)\n",
    "            rows=list(reader)\n",
    "        self.header=rows[0]\n",
    "        self.rows=rows[1:]\n",
    "        for row in self.rows:\n",
    "            row[-1] = int(row[-1])\n",
    "        self.id_to_row = {}\n",
    "        for row in self.rows:\n",
    "            self.id_to_row[row[0]] = row\n",
    "            \n",
    "    def get_laptop_from_id(self, laptop_id):\n",
    "        for row in self.rows:\n",
    "            if laptop_id in row: \n",
    "                return row \n",
    "        return None\n",
    "    \n",
    "    def get_laptop_from_id_fast(self, laptop_id):\n",
    "        if laptop_id in self.id_to_row:\n",
    "            return self.id_to_row[laptop_id]\n",
    "        return None"
   ]
  },
  {
   "cell_type": "code",
   "execution_count": 12,
   "metadata": {
    "collapsed": false
   },
   "outputs": [
    {
     "name": "stdout",
     "output_type": "stream",
     "text": [
      "['3362737', 'HP', '250 G6', 'Notebook', '15.6', 'Full HD 1920x1080', 'Intel Core i5 7200U 2.5GHz', '8GB', '256GB SSD', 'Intel HD Graphics 620', 'No OS', '1.86kg', 575]\n",
      "None\n"
     ]
    }
   ],
   "source": [
    "inventory = Inventory('laptops.csv')\n",
    "print(inventory.get_laptop_from_id_fast('3362737'))\n",
    "print(inventory.get_laptop_from_id_fast('3362736'))"
   ]
  },
  {
   "cell_type": "code",
   "execution_count": 13,
   "metadata": {
    "collapsed": false
   },
   "outputs": [],
   "source": [
    "import time\n",
    "import random\n",
    "\n",
    "ids = [str(random.randint(1000000, 9999999)) for _ in range(10000)]\n"
   ]
  },
  {
   "cell_type": "code",
   "execution_count": 14,
   "metadata": {
    "collapsed": false
   },
   "outputs": [
    {
     "name": "stdout",
     "output_type": "stream",
     "text": [
      "3.6365623474121094\n",
      "0.0065381526947021484\n"
     ]
    }
   ],
   "source": [
    "inventory = Inventory('laptops.csv')\n",
    "total_time_no_dict = 0\n",
    "\n",
    "for r_id in ids:\n",
    "    start = time.time()\n",
    "    inventory.get_laptop_from_id(r_id)\n",
    "    end = time.time()\n",
    "    total_time_no_dict += end - start\n",
    "    \n",
    "\n",
    "total_time_dict = 0\n",
    "\n",
    "for r_id in ids:\n",
    "    start = time.time()\n",
    "    inventory.get_laptop_from_id_fast(r_id)\n",
    "    end = time.time()\n",
    "    total_time_dict += end - start\n",
    "    \n",
    "print(total_time_no_dict)\n",
    "print(total_time_dict)"
   ]
  },
  {
   "cell_type": "code",
   "execution_count": 15,
   "metadata": {
    "collapsed": false
   },
   "outputs": [],
   "source": [
    "class Inventory():\n",
    "    def __init__(self, csv_filename):\n",
    "        with open(csv_filename) as file:\n",
    "            reader=csv.reader(file)\n",
    "            rows=list(reader)\n",
    "        self.header=rows[0]\n",
    "        self.rows=rows[1:]\n",
    "        for row in self.rows:\n",
    "            row[-1] = int(row[-1])\n",
    "        self.id_to_row = {}\n",
    "        for row in self.rows:\n",
    "            self.id_to_row[row[0]] = row\n",
    "            \n",
    "    def get_laptop_from_id(self, laptop_id):\n",
    "        for row in self.rows:\n",
    "            if laptop_id in row: \n",
    "                return row \n",
    "        return None\n",
    "    \n",
    "    def get_laptop_from_id_fast(self, laptop_id):\n",
    "        if laptop_id in self.id_to_row:\n",
    "            return self.id_to_row[laptop_id]\n",
    "        return None\n",
    "    \n",
    "    def check_promotion_dollars(self, dollars):\n",
    "        for row in self.rows:\n",
    "            if row[-1] == dollars:\n",
    "                return True\n",
    "        for r1 in self.rows:\n",
    "            for r2 in self.rows:\n",
    "                if r1[-1]+r2[-1] == dollars:\n",
    "                    return True\n",
    "        return False"
   ]
  },
  {
   "cell_type": "code",
   "execution_count": 16,
   "metadata": {
    "collapsed": false
   },
   "outputs": [
    {
     "name": "stdout",
     "output_type": "stream",
     "text": [
      "True\n",
      "False\n"
     ]
    }
   ],
   "source": [
    "inventory = Inventory('laptops.csv')\n",
    "print(inventory.check_promotion_dollars(1000))\n",
    "print(inventory.check_promotion_dollars(442))\n"
   ]
  },
  {
   "cell_type": "code",
   "execution_count": 17,
   "metadata": {
    "collapsed": true
   },
   "outputs": [],
   "source": [
    "class Inventory():\n",
    "    def __init__(self, csv_filename):\n",
    "        with open(csv_filename) as file:\n",
    "            reader=csv.reader(file)\n",
    "            rows=list(reader)\n",
    "        self.header=rows[0]\n",
    "        self.rows=rows[1:]\n",
    "        for row in self.rows:\n",
    "            row[-1] = int(row[-1])\n",
    "        self.id_to_row = {}\n",
    "        for row in self.rows:\n",
    "            self.id_to_row[row[0]] = row\n",
    "        self.prices=set()\n",
    "        for row in self.rows:\n",
    "            self.prices.add(row[-1])\n",
    "            \n",
    "    def get_laptop_from_id(self, laptop_id):\n",
    "        for row in self.rows:\n",
    "            if laptop_id in row: \n",
    "                return row \n",
    "        return None\n",
    "    \n",
    "    def get_laptop_from_id_fast(self, laptop_id):\n",
    "        if laptop_id in self.id_to_row:\n",
    "            return self.id_to_row[laptop_id]\n",
    "        return None\n",
    "    \n",
    "    def check_promotion_dollars(self, dollars):\n",
    "        for row in self.rows:\n",
    "            if row[-1] == dollars:\n",
    "                return True\n",
    "        for r1 in self.rows:\n",
    "            for r2 in self.rows:\n",
    "                if r1[-1]+r2[-1] == dollars:\n",
    "                    return True\n",
    "        return False\n",
    "    \n",
    "    def check_promotion_dollars_fast(self, dollars):\n",
    "        if dollars in self.prices:\n",
    "            return True\n",
    "        for price in self.prices:\n",
    "            if dollars - price in self.prices:\n",
    "                return True\n",
    "        return False"
   ]
  },
  {
   "cell_type": "code",
   "execution_count": 18,
   "metadata": {
    "collapsed": false
   },
   "outputs": [
    {
     "name": "stdout",
     "output_type": "stream",
     "text": [
      "True\n",
      "False\n"
     ]
    }
   ],
   "source": [
    "inventory = Inventory('laptops.csv')\n",
    "print(inventory.check_promotion_dollars_fast(1000))\n",
    "print(inventory.check_promotion_dollars_fast(442))"
   ]
  },
  {
   "cell_type": "code",
   "execution_count": 19,
   "metadata": {
    "collapsed": true
   },
   "outputs": [],
   "source": [
    "import random\n",
    "import time\n",
    "\n",
    "prices = [random.randint(100,5000) for _ in range(100)]"
   ]
  },
  {
   "cell_type": "code",
   "execution_count": 20,
   "metadata": {
    "collapsed": false
   },
   "outputs": [
    {
     "name": "stdout",
     "output_type": "stream",
     "text": [
      "4.085998058319092\n",
      "0.0015201568603515625\n"
     ]
    }
   ],
   "source": [
    "inventory = Inventory('laptops.csv')\n",
    "total_time_no_set = 0\n",
    "\n",
    "for price in prices:\n",
    "    start = time.time()\n",
    "    inventory.check_promotion_dollars(price)\n",
    "    end = time.time()\n",
    "    total_time_no_set += end - start\n",
    "    \n",
    "total_time_set = 0\n",
    "\n",
    "for price in prices:\n",
    "    start = time.time()\n",
    "    inventory.check_promotion_dollars_fast(price)\n",
    "    end = time.time()\n",
    "    total_time_set += end - start\n",
    "    \n",
    "print(total_time_no_set)\n",
    "print(total_time_set)   "
   ]
  },
  {
   "cell_type": "code",
   "execution_count": 45,
   "metadata": {
    "collapsed": true
   },
   "outputs": [],
   "source": [
    "def row_price(row):\n",
    "    return row[-1]\n",
    "\n",
    "class Inventory():\n",
    "    def __init__(self, csv_filename):\n",
    "        with open(csv_filename) as file:\n",
    "            reader=csv.reader(file)\n",
    "            rows=list(reader)\n",
    "        self.header=rows[0]\n",
    "        self.rows=rows[1:]\n",
    "        for row in self.rows:\n",
    "            row[-1] = int(row[-1])\n",
    "        self.id_to_row = {}\n",
    "        for row in self.rows:\n",
    "            self.id_to_row[row[0]] = row\n",
    "        self.prices=set()\n",
    "        for row in self.rows:\n",
    "            self.prices.add(row[-1])\n",
    "        self.rows_by_price = sorted(self.rows, key = row_price)\n",
    "            \n",
    "    def get_laptop_from_id(self, laptop_id):\n",
    "        for row in self.rows:\n",
    "            if laptop_id in row: \n",
    "                return row \n",
    "        return None\n",
    "    \n",
    "    def get_laptop_from_id_fast(self, laptop_id):\n",
    "        if laptop_id in self.id_to_row:\n",
    "            return self.id_to_row[laptop_id]\n",
    "        return None\n",
    "    \n",
    "    def check_promotion_dollars(self, dollars):\n",
    "        for row in self.rows:\n",
    "            if row[-1] == dollars:\n",
    "                return True\n",
    "        for r1 in self.rows:\n",
    "            for r2 in self.rows:\n",
    "                if r1[-1]+r2[-1] == dollars:\n",
    "                    return True\n",
    "        return False\n",
    "    \n",
    "    def check_promotion_dollars_fast(self, dollars):\n",
    "        if dollars in self.prices:\n",
    "            return True\n",
    "        for price in self.prices:\n",
    "            if dollars - price in self.prices:\n",
    "                return True\n",
    "        return False\n",
    "    \n",
    "    def find_laptop_with_price(self, target_price):\n",
    "        range_start = 0\n",
    "        range_end = len(self.rows_by_price) - 1\n",
    "        while range_start < range_end:\n",
    "            range_middle = (range_start + range_end) // 2\n",
    "            price = self.rows_by_price[range_middle][-1] #get price of middle element\n",
    "            if price == target_price:\n",
    "                return range_middle\n",
    "            elif price < target_price:\n",
    "                range_start = range_middle + 1\n",
    "            else:\n",
    "                range_end = range_middle - 1\n",
    "        \n",
    "        price = self.rows_by_price[range_start][-1]\n",
    "        \n",
    "        if self.rows_by_price[range_middle][-1] != target_price:\n",
    "            return -1\n",
    "        return range_start\n",
    "    \n",
    "    def find_first_laptop_more_expensive(self, target_price):\n",
    "        range_start = 0 \n",
    "        range_end = len(self.rows_by_price) - 1\n",
    "        while range_start < range_end:\n",
    "            range_middle = (range_start + range_end) // 2\n",
    "            price = self.rows_by_price[range_middle][-1]\n",
    "            if price > target_price:\n",
    "                range_end = range_middle\n",
    "            else:\n",
    "                range_start = range_middle + 1\n",
    "                \n",
    "        if self.rows_by_price[range_middle][-1] <= target_price:\n",
    "            return -1\n",
    "        return range_start\n",
    "        \n",
    "        "
   ]
  },
  {
   "cell_type": "code",
   "execution_count": 46,
   "metadata": {
    "collapsed": false
   },
   "outputs": [
    {
     "name": "stdout",
     "output_type": "stream",
     "text": [
      "683\n",
      "-1\n"
     ]
    }
   ],
   "source": [
    "inventory = Inventory('laptops.csv')                     # Step 3            \n",
    "print(inventory.find_first_laptop_more_expensive(1000))  # Step 4\n",
    "print(inventory.find_first_laptop_more_expensive(10000)) # Step 5"
   ]
  },
  {
   "cell_type": "code",
   "execution_count": null,
   "metadata": {
    "collapsed": true
   },
   "outputs": [],
   "source": []
  }
 ],
 "metadata": {
  "kernelspec": {
   "display_name": "Python 3",
   "language": "python",
   "name": "python3"
  },
  "language_info": {
   "codemirror_mode": {
    "name": "ipython",
    "version": 3
   },
   "file_extension": ".py",
   "mimetype": "text/x-python",
   "name": "python",
   "nbconvert_exporter": "python",
   "pygments_lexer": "ipython3",
   "version": "3.4.3"
  }
 },
 "nbformat": 4,
 "nbformat_minor": 2
}
